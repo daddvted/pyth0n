{
 "cells": [
  {
   "cell_type": "code",
   "execution_count": 4,
   "id": "da70e1b8",
   "metadata": {},
   "outputs": [
    {
     "data": {
      "text/plain": [
       "[0, 1, 2]"
      ]
     },
     "execution_count": 4,
     "metadata": {},
     "output_type": "execute_result"
    }
   ],
   "source": [
    "# DEBUG cell\n",
    "list(range(0, 3))\n"
   ]
  },
  {
   "cell_type": "code",
   "execution_count": 3,
   "id": "07e7940d",
   "metadata": {},
   "outputs": [],
   "source": [
    "import random\n",
    "from typing import List\n",
    "\n",
    "\n",
    "def generate_rand_int_list(max_num: int, size: int) -> List[int]:\n",
    "    return [random.randint(0, max_num) for _ in range(size)]"
   ]
  },
  {
   "cell_type": "code",
   "execution_count": null,
   "id": "8d8d3b3e",
   "metadata": {},
   "outputs": [],
   "source": [
    "l = generate_rand_int_list(20, 10)\n",
    "l"
   ]
  },
  {
   "cell_type": "code",
   "execution_count": null,
   "id": "ddd2ee58",
   "metadata": {},
   "outputs": [],
   "source": [
    "# Selection Sort\n",
    "\n",
    "from typing import List\n",
    "\n",
    "def selection_sort(arr: List[int]) -> List[int]:\n",
    "    n = len(arr)\n",
    "\n",
    "    for i in range(n):\n",
    "        # Assume i element is minimum\n",
    "        smallest_index = i\n",
    "        # Scan to find the real minimum number\n",
    "        for j in range(i + 1, n):\n",
    "            if arr[j] < arr[smallest_index]:\n",
    "                # Change minimum index to real minimum element of current round\n",
    "                smallest_index = j\n",
    "        # Swap real minimum element to i\n",
    "        arr[i], arr[smallest_index] = arr[smallest_index], arr[i]\n",
    "        print(f\"outer loop(#{i})\",arr)\n",
    "\n",
    "    return arr\n",
    "    \n"
   ]
  },
  {
   "cell_type": "code",
   "execution_count": null,
   "id": "792b6ee0",
   "metadata": {},
   "outputs": [],
   "source": [
    "# Bubble Sort\n",
    "\n",
    "from typing import List\n",
    "\n",
    "def bubble_sort(arr: List[int]) -> List[int]:\n",
    "    n = len(arr)\n",
    "    \n",
    "    # 外层循环有点类似于遍历次数，\n",
    "    # 内层循环才是实际的排序\n",
    "    for i in range(n):\n",
    "        print(f'round-{i}')\n",
    "        # 最后i个元素已经被排序\n",
    "        for j in range(n-1-i):\n",
    "            if arr[j] > arr[j+1]:\n",
    "                arr[j], arr[j+1] = arr[j+1], arr[j]\n",
    "            print(arr)\n",
    "    return arr\n",
    "\n",
    "\n",
    "def better_bubble_sort(arr: List[int]) -> List[int]:\n",
    "    n = len(arr)\n",
    "    \n",
    "    for i in range(n):\n",
    "        swapped = False\n",
    "        \n",
    "        for j in range(n-1-i):\n",
    "            if arr[j] > arr[j+1]:\n",
    "                arr[j], arr[j+1] = arr[j+1], arr[j]\n",
    "                swapped = True\n",
    "            print(arr)\n",
    "        print(f'round-{i}, swapped: {swapped}')\n",
    "        \n",
    "        if not swapped:\n",
    "            break\n",
    "    return arr"
   ]
  },
  {
   "cell_type": "code",
   "execution_count": 17,
   "id": "079ca663",
   "metadata": {},
   "outputs": [],
   "source": [
    "# Insertion Sort\n",
    "\n",
    "from typing import List\n",
    "\n",
    "def insertion_sort_youtube(arr: List[int]) -> List[int]:\n",
    "    n = len(arr)\n",
    "    \n",
    "    # range from 1 to n\n",
    "    for i in range(1, n):\n",
    "        # [7|2,4,1,5,3], left: sorted, right: unsorted\n",
    "        tmp = arr[i]\n",
    "        slot = i\n",
    "        \n",
    "        # Use while loop to shift element greater than \"tmp\"\n",
    "        while slot > 0 and arr[slot-1] > tmp:\n",
    "            arr[slot] = arr[slot-1]\n",
    "            slot -= 1\n",
    "        \n",
    "        # Insert\n",
    "        arr[slot] = tmp\n",
    "    \n",
    "    return arr\n",
    "        \n",
    "\n",
    "def insertion_sort(arr: List[int]) -> List[int]:\n",
    "    \n",
    "    for i in range(len(arr)):\n",
    "        \n",
    "        # Assume the left side is sorted list\n",
    "        # the \"arr[i-1] >= arr[i]\" just loop the sorted list,\n",
    "        # to compare the element \"just\" adding to sorted list.\n",
    "        while i > 0 and arr[i-1] >= arr[i]:\n",
    "            arr[i], arr[i-1] = arr[i-1], arr[i]\n",
    "            i -= 1\n",
    "\n",
    "            \n",
    "    \n",
    "        \n",
    "    "
   ]
  },
  {
   "cell_type": "code",
   "execution_count": null,
   "id": "9422cb4f",
   "metadata": {},
   "outputs": [],
   "source": [
    "# In insertion sort elements are bubbled into the sorted section, \n",
    "# while in bubble sort the maximums are bubbled out of the unsorted section."
   ]
  },
  {
   "cell_type": "code",
   "execution_count": 19,
   "id": "5654feee",
   "metadata": {},
   "outputs": [],
   "source": [
    "# Quick Sort\n",
    "\n",
    "from typing import List\n",
    "\n",
    "def partition(arr: List[int], low: int, high: int) -> int:\n",
    "    # 不创建类似quick_sort_pythonic方法的数组，\n",
    "    # Operate on original array directly\n",
    "    i = low - 1 # index of smaller element\n",
    "    pivot = arr[high]\n",
    "    \n",
    "    for j in range(low, high):\n",
    "        if arr[j] <= pivot:\n",
    "            i += 1\n",
    "            arr[i], arr[j] = arr[j], arr[i]\n",
    "    arr[i+1], arr[high] = arr[high], arr[i+1]\n",
    "    \n",
    "    return i+1\n",
    "\n",
    "def quick_sort(arr: List[int], low: int, high:int)->None:\n",
    "    if low < high:\n",
    "        pivot = partition(arr, low, high)\n",
    "        \n",
    "        quick_sort(arr, low, pivot-1)\n",
    "        quick_sort(arr, pivot+1, high)\n",
    "\n",
    "\n",
    "def quick_sort_pythonic(arr: List[int])->List[int]:\n",
    "    # 创建3个list来保存中间数\n",
    "    smaller = []\n",
    "    equal = []\n",
    "    greater = []\n",
    "    \n",
    "    if len(arr) > 1:\n",
    "        pivot = arr[0]\n",
    "        for x in arr:\n",
    "            if x < pivot:\n",
    "                smaller.append(x)\n",
    "            elif x == pivot:\n",
    "                equal.append(x)\n",
    "            else:\n",
    "                greater.append(x)\n",
    "        return quick_sort_pythonic(smaller) + equal + quick_sort_pythonic(greater)\n",
    "    else:\n",
    "        return arr\n"
   ]
  },
  {
   "cell_type": "code",
   "execution_count": 21,
   "id": "9e2931ca",
   "metadata": {},
   "outputs": [
    {
     "name": "stdout",
     "output_type": "stream",
     "text": [
      "[0, 13, 23, 24, 33, 46, 68, 80, 84, 98]\n"
     ]
    }
   ],
   "source": [
    "l = generate_rand_int_list(100, 10)\n",
    "l\n",
    "sorted = quick_sort_pythonic(l)\n",
    "print(sorted)\n",
    "\n",
    "# quick_sort(l, 0, len(l)-1)\n",
    "# print(l)"
   ]
  }
 ],
 "metadata": {
  "kernelspec": {
   "display_name": "Python 3 (ipykernel)",
   "language": "python",
   "name": "python3"
  },
  "language_info": {
   "codemirror_mode": {
    "name": "ipython",
    "version": 3
   },
   "file_extension": ".py",
   "mimetype": "text/x-python",
   "name": "python",
   "nbconvert_exporter": "python",
   "pygments_lexer": "ipython3",
   "version": "3.9.7"
  }
 },
 "nbformat": 4,
 "nbformat_minor": 5
}
