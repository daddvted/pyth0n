{
 "cells": [
  {
   "cell_type": "code",
   "execution_count": 1,
   "id": "d077ec10",
   "metadata": {},
   "outputs": [
    {
     "ename": "ModuleNotFoundError",
     "evalue": "No module named 'Crypto'",
     "output_type": "error",
     "traceback": [
      "\u001b[1;31m---------------------------------------------------------------------------\u001b[0m",
      "\u001b[1;31mModuleNotFoundError\u001b[0m                       Traceback (most recent call last)",
      "\u001b[1;32me:\\daddvsgithub\\py\\hardcore\\debug.ipynb Cell 1'\u001b[0m in \u001b[0;36m<cell line: 4>\u001b[1;34m()\u001b[0m\n\u001b[0;32m      <a href='vscode-notebook-cell:/e%3A/daddvsgithub/py/hardcore/debug.ipynb#ch0000000?line=1'>2</a>\u001b[0m \u001b[39mimport\u001b[39;00m \u001b[39mstring\u001b[39;00m\n\u001b[0;32m      <a href='vscode-notebook-cell:/e%3A/daddvsgithub/py/hardcore/debug.ipynb#ch0000000?line=2'>3</a>\u001b[0m \u001b[39mimport\u001b[39;00m \u001b[39mbinascii\u001b[39;00m\n\u001b[1;32m----> <a href='vscode-notebook-cell:/e%3A/daddvsgithub/py/hardcore/debug.ipynb#ch0000000?line=3'>4</a>\u001b[0m \u001b[39mfrom\u001b[39;00m \u001b[39mCrypto\u001b[39;00m \u001b[39mimport\u001b[39;00m Random\n\u001b[0;32m      <a href='vscode-notebook-cell:/e%3A/daddvsgithub/py/hardcore/debug.ipynb#ch0000000?line=4'>5</a>\u001b[0m \u001b[39mimport\u001b[39;00m \u001b[39mos\u001b[39;00m\n\u001b[0;32m      <a href='vscode-notebook-cell:/e%3A/daddvsgithub/py/hardcore/debug.ipynb#ch0000000?line=6'>7</a>\u001b[0m s \u001b[39m=\u001b[39m \u001b[39m\"\u001b[39m\u001b[39m1111\u001b[39m\u001b[39m\"\u001b[39m\n",
      "\u001b[1;31mModuleNotFoundError\u001b[0m: No module named 'Crypto'"
     ]
    }
   ],
   "source": [
    "import random\n",
    "import string\n",
    "import binascii\n",
    "from Crypto import Random\n",
    "import os\n",
    "\n",
    "s = \"1111\"\n",
    "\n",
    "tmp = binascii.a2b_hex(s)\n",
    "print(binascii.b2a_hex(tmp))\n",
    "\n",
    "r = os.urandom(4)\n",
    "\n",
    "h = binascii.b2a_hex(r)\n",
    "u = binascii.b2a_uu(r)\n",
    "\n",
    "print(h)\n",
    "print(u)\n",
    "print(binascii.b2a_qp(r))\n",
    "\n",
    "print(''.join(random.sample(string.ascii_letters+string.digits, 8)))"
   ]
  },
  {
   "cell_type": "code",
   "execution_count": null,
   "id": "09e16dca",
   "metadata": {},
   "outputs": [],
   "source": [
    "# Bytedance Quiz\n",
    "\n",
    "import re\n",
    "import sys\n",
    "\n",
    "input0 = '[I love byte apple bytedance]'\n",
    "sentence = 'Ilovebytappleebytebytedance'\n",
    "\n",
    "words = input0.strip('[]').split()\n",
    "\n",
    "words_exists = []\n",
    "long_word = ''\n",
    "match = True\n",
    "\n",
    "while len(sentence) and match:\n",
    "    match = False\n",
    "    for w in words:\n",
    "        m = re.findall(r'' + w + r'', sentence)\n",
    "        if m:\n",
    "            match = True\n",
    "            words_exists.append(m[0])\n",
    "            if len(m[0]) > len(long_word):\n",
    "                long_word = m[0]\n",
    "\n",
    "    sentence = sentence.replace(long_word, '')\n",
    "    long_word = ''\n",
    "\n",
    "if sentence:\n",
    "    words_exists.append(sentence)\n",
    "\n",
    "\n",
    "print(set(words_exists).issubset(set(words)))"
   ]
  },
  {
   "cell_type": "code",
   "execution_count": null,
   "id": "6cce7aca",
   "metadata": {},
   "outputs": [],
   "source": [
    "import numpy as np\n",
    "\n",
    "arr2d = [\n",
    "    [1, 14, 13, 12],\n",
    "    [2, 0, 0, 11],\n",
    "    [3, 0, 0, 10],\n",
    "    [4, 0, 0, 9],\n",
    "    [5, 6, 7, 8],\n",
    "]\n",
    "\n",
    "\n",
    "def light(x, y):\n",
    "    print(\"light [{}, {}]\".format(x, y))\n",
    "\n",
    "\n",
    "if __name__ == \"__main__\":\n",
    "    arr = np.array(arr2d)\n",
    "    m = 5\n",
    "    n = 4\n",
    "    # print(arr)\n",
    "    print(arr[:-1, 0])\n",
    "    print(arr[m-1, :-1])  # 4 = 5-1\n",
    "    print(arr[:-5:-1, 3])    # 3 = 4 -1\n",
    "    print(arr[0, :-4:-1])\n",
    "#    # loop_boundary(arr2d, 5, 4)\n",
    "#    m = 5\n",
    "#    n = 4\n",
    "#    increase = True\n",
    "#\n",
    "#    loop = n if n < m else m\n",
    "#\n",
    "#    for i in range(4):\n",
    "#        if i > 2:\n",
    "#            increase = False\n",
    "#\n",
    "#        if increase:\n",
    "#            x = 0\n",
    "#            y = 0\n",
    "#            for x in range(loop):\n",
    "#                print(x, y)\n",
    "#\n",
    "#    # [0, 4]\n",
    "#    # range(4)\n",
    "##    print(arr2d[0][0])\n",
    "##    print(arr2d[1][0])\n",
    "##    print(arr2d[2][0])\n",
    "##    print(arr2d[3][0])\n",
    "##\n",
    "##    # 4 = 5-1\n",
    "##    print(arr2d[4][0])\n",
    "##    print(arr2d[4][1])\n",
    "##    print(arr2d[4][2])\n",
    "##    print(arr2d[4][3])\n",
    "##\n",
    "##    # 3 = 4-1\n",
    "##    print(arr2d[3][3])\n",
    "##    print(arr2d[2][3])\n",
    "##    print(arr2d[1][3])\n",
    "##    print(arr2d[0][3])\n",
    "##\n",
    "##    print(arr2d[0][3])\n",
    "##    print(arr2d[0][2])\n",
    "##    print(arr2d[0][1])\n",
    "##    print(arr2d[0][0])  # redundant\n"
   ]
  },
  {
   "cell_type": "code",
   "execution_count": null,
   "id": "0bef2f5c",
   "metadata": {},
   "outputs": [],
   "source": [
    "# 乘法表\n",
    "# from __future__ import print_function\n",
    "\n",
    "\n",
    "def print_multi_table():\n",
    "    for i in range(1, 10):\n",
    "        for j in range(1, i+1):\n",
    "            # use from __future__\n",
    "            # print(\"{} * {} = {}\".format(i, j, i*j), end=\"\")\n",
    "            # print(\" \", end=\"\")\n",
    "\n",
    "            print(\"{}*{}={}\".format(i, j, i*j),end=\" \"),\n",
    "            # print(\" \"),\n",
    "\n",
    "        print(\"\")\n",
    "\n",
    "if __name__ == \"__main__\":\n",
    "    print_multi_table()"
   ]
  },
  {
   "cell_type": "code",
   "execution_count": 110,
   "id": "284e02e3",
   "metadata": {},
   "outputs": [],
   "source": [
    "class Solution:\n",
    "    \"\"\"\n",
    "    有效的括号\n",
    "    \"\"\"\n",
    "    def isValid(self, s: str) -> bool:\n",
    "        map = {\n",
    "            '(': 'A',\n",
    "            ')': 'A',\n",
    "             '{': 'B',\n",
    "             '}': 'B',\n",
    "             '[': 'C',\n",
    "             ']': 'C',\n",
    "        }\n",
    "        stack = []\n",
    "        for char in s:\n",
    "            if char in '([{':\n",
    "                stack.append(map[char])\n",
    "            else:\n",
    "                last = stack.pop()\n",
    "                if last != map[char]:\n",
    "                    return False\n",
    "        \n",
    "        return len(stack) == 0\n",
    "    \n"
   ]
  },
  {
   "cell_type": "code",
   "execution_count": 113,
   "id": "819acf60",
   "metadata": {},
   "outputs": [
    {
     "name": "stdout",
     "output_type": "stream",
     "text": [
      "last: C, char: )\n",
      "False\n"
     ]
    }
   ],
   "source": [
    "sol = Solution()\n",
    "print(sol.isValid('([)]'))"
   ]
  },
  {
   "cell_type": "raw",
   "id": "b7f9f37f",
   "metadata": {},
   "source": []
  },
  {
   "cell_type": "code",
   "execution_count": 23,
   "id": "4d6fae42",
   "metadata": {},
   "outputs": [
    {
     "name": "stdout",
     "output_type": "stream",
     "text": [
      "1\n",
      "0\n"
     ]
    }
   ],
   "source": [
    "from typing import List\n",
    "\n",
    "class Solution:\n",
    "    def maxSubArray(self, nums: List[int]) -> int:\n",
    "        sum = 0\n",
    "        for i in range(len(nums)):\n",
    "            "
   ]
  }
 ],
 "metadata": {
  "kernelspec": {
   "display_name": "Python 3 (ipykernel)",
   "language": "python",
   "name": "python3"
  },
  "language_info": {
   "codemirror_mode": {
    "name": "ipython",
    "version": 3
   },
   "file_extension": ".py",
   "mimetype": "text/x-python",
   "name": "python",
   "nbconvert_exporter": "python",
   "pygments_lexer": "ipython3",
   "version": "3.9.7"
  }
 },
 "nbformat": 4,
 "nbformat_minor": 5
}
